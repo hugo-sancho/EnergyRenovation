{
 "cells": [
  {
   "cell_type": "markdown",
   "id": "7f075486-eeed-49d3-b868-c77a7848e2b6",
   "metadata": {},
   "source": [
    "Utilisation de RES-Irf pour le mini-projet\n",
    "\n",
    "Début du code :"
   ]
  }
 ],
 "metadata": {
  "kernelspec": {
   "display_name": "Python 3 (ipykernel)",
   "language": "python",
   "name": "python3"
  },
  "language_info": {
   "codemirror_mode": {
    "name": "ipython",
    "version": 3
   },
   "file_extension": ".py",
   "mimetype": "text/x-python",
   "name": "python",
   "nbconvert_exporter": "python",
   "pygments_lexer": "ipython3",
   "version": "3.9.12"
  }
 },
 "nbformat": 4,
 "nbformat_minor": 5
}
